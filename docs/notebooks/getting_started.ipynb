{
 "cells": [
  {
   "attachments": {},
   "cell_type": "markdown",
   "metadata": {},
   "source": [
    "# Installation"
   ]
  },
  {
   "attachments": {},
   "cell_type": "markdown",
   "metadata": {},
   "source": [
    "### From New Environment (Conda)\n",
    "We highly recommend installing conda or miniconda and creating a new virtual\n",
    "environment to install ucdeconvolve as it reduces the likelihood of version conflicts. \n",
    "We suggest the following conda environment which will be compatible with jupyter notebooks. "
   ]
  },
  {
   "attachments": {},
   "cell_type": "markdown",
   "metadata": {},
   "source": [
    "```shell\n",
    "conda create -n ucdenv python=3.8 pytables jupyter jupyterlab\n",
    "conda activate ucdenv\n",
    "pip install ucdeconvolve\n",
    "```"
   ]
  },
  {
   "attachments": {},
   "cell_type": "markdown",
   "metadata": {},
   "source": [
    "%%eval-rst\n",
    ".. note::\n",
    "   As ucdeconvolve uses HDF files as intermin datastore types, the ``pytables`` package **must** be installed with conda\n",
    "   before installing ucdeconvolve to ensure that all underlying hdf5 dependencies are present."
   ]
  },
  {
   "attachments": {},
   "cell_type": "markdown",
   "metadata": {},
   "source": [
    "### From Existing Environment (Pip)\n",
    "To install ucdeconvolve using pypi in an existing environment, first ensure that\n",
    "``pytables`` has been installed if you are using an existing conda / virtualenv\n",
    "and that the ``tables`` package is present under ``pip list``. Then, simply run\n",
    "the following command to install ucdeconvolve and any other required dependencies.\n",
    "\n",
    "```shell\n",
    "pip install ucdeconvolve\n",
    "```"
   ]
  },
  {
   "attachments": {},
   "cell_type": "markdown",
   "metadata": {},
   "source": [
    "------------------------------------------------------------------------------------\n",
    "# Registration\n",
    "### Create a New Account\n",
    "Registration for UCDeconvolve is straightforward and can be done either in\n",
    "a notebook environment or terminal. We offer dynamic registration with\n",
    "live user input, or programmatic registration with al fields as an input.\n",
    "\n",
    "Load the ucdeconvolve package and run the 'ucd.api.register' command as shown below.\n",
    "Follow the instructions by inputting the required information at each step."
   ]
  },
  {
   "cell_type": "code",
   "execution_count": null,
   "metadata": {},
   "outputs": [],
   "source": [
    "import ucdeconvolve as ucd\n",
    "\n",
    "ucd.api.register()"
   ]
  },
  {
   "attachments": {},
   "cell_type": "markdown",
   "metadata": {},
   "source": [
    "Alternatively, one can perform registration entirely programmatically by\n",
    "invoking the function as follows:"
   ]
  },
  {
   "cell_type": "code",
   "execution_count": null,
   "metadata": {},
   "outputs": [],
   "source": [
    "username = \"USERNAME\"\n",
    "password = \"PASSWORD\"\n",
    "firstname = \"FIRSTNAME\"\n",
    "lastname = \"LASTNAME\"\n",
    "email = \"EMAIL\"\n",
    "institution = \"INSTITUTION\"\n",
    "\n",
    "ucd.api.register(\n",
    "    username = username,\n",
    "    password = password,\n",
    "    firstname = firstname,\n",
    "    lastname = lastname,\n",
    "    email = email,\n",
    "    institution=institution\n",
    "    dynamic = False\n",
    ")"
   ]
  },
  {
   "attachments": {},
   "cell_type": "markdown",
   "metadata": {},
   "source": [
    "### Account Activation\n",
    "Upon completion of the initial registration form, you will recieve an email at\n",
    "the address specified with an activation code. Copy the code and paste it back\n",
    "into the waiting input prompt in order to activate your account. Upon account\n",
    "activation, a followup email will be sent with your user API key. This key\n",
    "will also be automatically appended to your working 'ucd' module instance."
   ]
  },
  {
   "attachments": {},
   "cell_type": "markdown",
   "metadata": {},
   "source": [
    "If you accidentally close the registration function instance prior to adding\n",
    "the activation code, you can still activate your account by invoking the\n",
    "``ucd.api.activate`` command and passing the activation code directly there."
   ]
  },
  {
   "cell_type": "code",
   "execution_count": null,
   "metadata": {},
   "outputs": [],
   "source": [
    "activation_code = \"ACTIVATION_CODE\"\n",
    "ucd.api.activate(activation_code)"
   ]
  },
  {
   "attachments": {},
   "cell_type": "markdown",
   "metadata": {},
   "source": [
    "### New Session Authentication\n",
    "\n",
    "When you start a new python instance, you can authenticate your API by simply calling the ``ucd.api.authenticate([token])`` function\n",
    "and passing your user access token. It will be appended to your settings module at ``ucd.settings.token``"
   ]
  },
  {
   "cell_type": "markdown",
   "metadata": {},
   "source": []
  }
 ],
 "metadata": {
  "kernelspec": {
   "display_name": "unicell-web2",
   "language": "python",
   "name": "python3"
  },
  "language_info": {
   "codemirror_mode": {
    "name": "ipython",
    "version": 3
   },
   "file_extension": ".py",
   "mimetype": "text/x-python",
   "name": "python",
   "nbconvert_exporter": "python",
   "pygments_lexer": "ipython3",
   "version": "3.9.16"
  },
  "orig_nbformat": 4
 },
 "nbformat": 4,
 "nbformat_minor": 2
}
